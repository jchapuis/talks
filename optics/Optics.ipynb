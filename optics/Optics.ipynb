{
 "cells": [
  {
   "cell_type": "markdown",
   "metadata": {
    "slideshow": {
     "slide_type": "skip"
    }
   },
   "source": [
    "# Imports"
   ]
  },
  {
   "cell_type": "code",
   "execution_count": 2,
   "metadata": {
    "hide_input": false,
    "init_cell": true,
    "slideshow": {
     "slide_type": "skip"
    }
   },
   "outputs": [
    {
     "data": {
      "text/plain": [
       "\u001b[32mimport \u001b[39m\u001b[36m$ivy.$                                               \n",
       "\u001b[39m\n",
       "\u001b[32mimport \u001b[39m\u001b[36m$ivy.$                                              \n",
       "\u001b[39m\n",
       "\u001b[32mimport \u001b[39m\u001b[36m$ivy.$                                                \u001b[39m"
      ]
     },
     "execution_count": 2,
     "metadata": {},
     "output_type": "execute_result"
    }
   ],
   "source": [
    "import $ivy.`com.github.julien-truffaut::monocle-core:1.5.0`\n",
    "import $ivy.`com.github.julien-truffaut::monocle-law:1.5.0`\n",
    "import $ivy.`com.github.julien-truffaut::monocle-macro:1.5.0`"
   ]
  },
  {
   "cell_type": "markdown",
   "metadata": {
    "slideshow": {
     "slide_type": "slide"
    }
   },
   "source": [
    "# Optics: a hands-on introduction in Scala\n",
    "![Unicorn glasses](unicorn_glasses.jpg \"Unicorn glasses\")\n",
    "![Bestmile logo](bm_logo.png \"Bestmile logo\")\n"
   ]
  },
  {
   "cell_type": "markdown",
   "metadata": {
    "slideshow": {
     "slide_type": "fragment"
    }
   },
   "source": [
    "*Optics*: purely functional abstractions to manipulate immutable objects"
   ]
  },
  {
   "cell_type": "markdown",
   "metadata": {
    "slideshow": {
     "slide_type": "slide"
    }
   },
   "source": [
    "## Here's a dummy &#128118; domain model: "
   ]
  },
  {
   "cell_type": "code",
   "execution_count": 2,
   "metadata": {
    "slideshow": {
     "slide_type": "fragment"
    }
   },
   "outputs": [
    {
     "data": {
      "text/plain": [
       "defined \u001b[32mclass\u001b[39m \u001b[36mStreet\u001b[39m\n",
       "defined \u001b[32mclass\u001b[39m \u001b[36mAddress\u001b[39m\n",
       "defined \u001b[32mclass\u001b[39m \u001b[36mCompany\u001b[39m\n",
       "defined \u001b[32mclass\u001b[39m \u001b[36mEmployee\u001b[39m"
      ]
     },
     "execution_count": 2,
     "metadata": {},
     "output_type": "execute_result"
    }
   ],
   "source": [
    "case class Street(number: Int, name: String); \n",
    "case class Address(city: String, street: Street); \n",
    "case class Company(name: String, address: Address); \n",
    "case class Employee(name: String, company: Company, salary: Int)"
   ]
  },
  {
   "cell_type": "markdown",
   "metadata": {
    "slideshow": {
     "slide_type": "fragment"
    }
   },
   "source": [
    "Case classes in Scala are used to define immutable and algebraic data types. They have built-in support for:\n",
    "- pattern matching\n",
    "- comparison by structure\n",
    "- `copy` method which helps for immutable updates"
   ]
  },
  {
   "cell_type": "markdown",
   "metadata": {
    "slideshow": {
     "slide_type": "subslide"
    }
   },
   "source": [
    "Let's define an employee &#128105;:"
   ]
  },
  {
   "cell_type": "code",
   "execution_count": 3,
   "metadata": {
    "slideshow": {
     "slide_type": "fragment"
    }
   },
   "outputs": [
    {
     "data": {
      "text/plain": [
       "\u001b[36memployee\u001b[39m: \u001b[32mEmployee\u001b[39m = Employee(Monica,Company(Bestmile,Address(Lausanne,Street(58,rhodanie))),100)"
      ]
     },
     "execution_count": 3,
     "metadata": {},
     "output_type": "execute_result"
    }
   ],
   "source": [
    "val employee = Employee(\"Monica\", Company(\"Bestmile\", Address(\"Lausanne\", Street(58, \"rhodanie\"))), 100)"
   ]
  },
  {
   "cell_type": "markdown",
   "metadata": {
    "slideshow": {
     "slide_type": "subslide"
    }
   },
   "source": [
    "Now let's say we want to upper case the street name. Here's how we can do it using `copy`:"
   ]
  },
  {
   "cell_type": "code",
   "execution_count": 4,
   "metadata": {
    "slideshow": {
     "slide_type": "fragment"
    }
   },
   "outputs": [
    {
     "data": {
      "text/plain": [
       "\u001b[36mres3\u001b[39m: \u001b[32mEmployee\u001b[39m = Employee(Monica,Company(Bestmile,Address(Lausanne,Street(58,Rhodanie))),100)"
      ]
     },
     "execution_count": 4,
     "metadata": {},
     "output_type": "execute_result"
    }
   ],
   "source": [
    "employee.copy(\n",
    "  company = employee.company.copy(\n",
    "    address = employee.company.address.copy(\n",
    "      street = employee.company.address.street.copy(\n",
    "        name = employee.company.address.street.name.capitalize // luckily capitalize exists\n",
    "      )\n",
    "    )\n",
    "  )\n",
    ")"
   ]
  },
  {
   "cell_type": "markdown",
   "metadata": {
    "slideshow": {
     "slide_type": "fragment"
    }
   },
   "source": [
    "Pretty convoluted &#128580;. That's when the `Lens` optic becomes useful, as we'll see next."
   ]
  },
  {
   "cell_type": "markdown",
   "metadata": {
    "slideshow": {
     "slide_type": "slide"
    }
   },
   "source": [
    "## `Lens`: magnifying glass  &#128269; for immutable data structures"
   ]
  },
  {
   "cell_type": "markdown",
   "metadata": {
    "slideshow": {
     "slide_type": "fragment"
    }
   },
   "source": [
    "`Lens` is like a zoom for data structures. Let's import the `monocle` library version of `Lens` first (we'll look at `scalaz` later):"
   ]
  },
  {
   "cell_type": "code",
   "execution_count": 5,
   "metadata": {
    "slideshow": {
     "slide_type": "fragment"
    }
   },
   "outputs": [
    {
     "data": {
      "text/plain": [
       "\u001b[32mimport \u001b[39m\u001b[36mmonocle.Lens\n",
       "\u001b[39m\n",
       "\u001b[32mimport \u001b[39m\u001b[36mmonocle.macros.GenLens\u001b[39m"
      ]
     },
     "execution_count": 5,
     "metadata": {},
     "output_type": "execute_result"
    }
   ],
   "source": [
    "import monocle.Lens\n",
    "import monocle.macros.GenLens"
   ]
  },
  {
   "cell_type": "markdown",
   "metadata": {
    "slideshow": {
     "slide_type": "fragment"
    }
   },
   "source": [
    "Let's define a `lens` on the `company` field of `Employee`:"
   ]
  },
  {
   "cell_type": "code",
   "execution_count": 6,
   "metadata": {
    "slideshow": {
     "slide_type": "fragment"
    }
   },
   "outputs": [
    {
     "data": {
      "text/plain": [
       "\u001b[36mcompanyLens\u001b[39m: \u001b[32mLens\u001b[39m[\u001b[32mEmployee\u001b[39m, \u001b[32mCompany\u001b[39m] = $sess.cmd5Wrapper$Helper$$anon$1@49802b39"
      ]
     },
     "execution_count": 6,
     "metadata": {},
     "output_type": "execute_result"
    }
   ],
   "source": [
    "val companyLens: Lens[Employee, Company] = GenLens[Employee](_.company)"
   ]
  },
  {
   "cell_type": "markdown",
   "metadata": {
    "slideshow": {
     "slide_type": "fragment"
    }
   },
   "source": [
    "`GenLens` is a helper scala macro provided by `monocle.macros.GenLens`. A macro is code running at compilation time and emitting code for the actual compilation stage. It emits creation code for our `companyLens` object by introspecting the passed-in selection lambda function. "
   ]
  },
  {
   "cell_type": "markdown",
   "metadata": {
    "slideshow": {
     "slide_type": "subslide"
    }
   },
   "source": [
    "Here's what we can now do with our lens:"
   ]
  },
  {
   "cell_type": "code",
   "execution_count": 7,
   "metadata": {
    "slideshow": {
     "slide_type": "fragment"
    }
   },
   "outputs": [
    {
     "data": {
      "text/plain": [
       "\u001b[36mfoobarCompany\u001b[39m: \u001b[32mCompany\u001b[39m = Company(FooBar,Address(Lausanne,Street(58,rhodanie)))\n",
       "\u001b[36mres6_1\u001b[39m: \u001b[32mEmployee\u001b[39m = Employee(Monica,Company(FooBar,Address(Lausanne,Street(58,rhodanie))),100)"
      ]
     },
     "execution_count": 7,
     "metadata": {},
     "output_type": "execute_result"
    }
   ],
   "source": [
    "val foobarCompany = Company(\"FooBar\", Address(\"Lausanne\", Street(58,\"rhodanie\")))\n",
    "\n",
    "companyLens.set(foobarCompany)(employee)"
   ]
  },
  {
   "cell_type": "markdown",
   "metadata": {
    "slideshow": {
     "slide_type": "fragment"
    }
   },
   "source": [
    "Note that `Lens.set` is a curried method, i.e. it defines two parameter lists: \n",
    " 1. value to be set \n",
    " 1. object to set it onto"
   ]
  },
  {
   "cell_type": "markdown",
   "metadata": {
    "slideshow": {
     "slide_type": "subslide"
    }
   },
   "source": [
    "Therefore, one could also do:"
   ]
  },
  {
   "cell_type": "code",
   "execution_count": 8,
   "metadata": {
    "slideshow": {
     "slide_type": "fragment"
    }
   },
   "outputs": [
    {
     "data": {
      "text/plain": [
       "\u001b[36mfoobarCompanySetter\u001b[39m: \u001b[32mEmployee\u001b[39m => \u001b[32mEmployee\u001b[39m = <function1>"
      ]
     },
     "execution_count": 8,
     "metadata": {},
     "output_type": "execute_result"
    }
   ],
   "source": [
    "val foobarCompanySetter = companyLens.set(foobarCompany)"
   ]
  },
  {
   "cell_type": "markdown",
   "metadata": {
    "slideshow": {
     "slide_type": "fragment"
    }
   },
   "source": [
    "And we get a function which can be applied to many employees to set their company to foobar:"
   ]
  },
  {
   "cell_type": "code",
   "execution_count": 9,
   "metadata": {
    "slideshow": {
     "slide_type": "fragment"
    }
   },
   "outputs": [
    {
     "data": {
      "text/plain": [
       "\u001b[36mres8\u001b[39m: \u001b[32mEmployee\u001b[39m = Employee(Monica,Company(FooBar,Address(Lausanne,Street(58,rhodanie))),100)"
      ]
     },
     "execution_count": 9,
     "metadata": {},
     "output_type": "execute_result"
    }
   ],
   "source": [
    "foobarCompanySetter(employee)\n",
    "// foobarCompanySetter(bob)\n",
    "// foobarCompanySetter(paul) \n",
    "// etc."
   ]
  },
  {
   "cell_type": "markdown",
   "metadata": {
    "slideshow": {
     "slide_type": "fragment"
    }
   },
   "source": [
    "🤔 Our initial objective actually was to uppercase the street name. Let's see how this can help us get there."
   ]
  },
  {
   "cell_type": "markdown",
   "metadata": {
    "slideshow": {
     "slide_type": "subslide"
    }
   },
   "source": [
    "We can define in a similar way lenses for the `address` field of `Company`, for the `street` field of `Address`, and the `name` field of `Street`:"
   ]
  },
  {
   "cell_type": "code",
   "execution_count": 10,
   "metadata": {
    "slideshow": {
     "slide_type": "fragment"
    }
   },
   "outputs": [
    {
     "data": {
      "text/plain": [
       "\u001b[36maddressLens\u001b[39m: \u001b[32mLens\u001b[39m[\u001b[32mCompany\u001b[39m, \u001b[32mAddress\u001b[39m] = $sess.cmd9Wrapper$Helper$$anon$1@72dfba8e\n",
       "\u001b[36mstreetLens\u001b[39m: \u001b[32mLens\u001b[39m[\u001b[32mAddress\u001b[39m, \u001b[32mStreet\u001b[39m] = $sess.cmd9Wrapper$Helper$$anon$2@2bf5fb3d\n",
       "\u001b[36mstreetNameLens\u001b[39m: \u001b[32mLens\u001b[39m[\u001b[32mStreet\u001b[39m, \u001b[32mString\u001b[39m] = $sess.cmd9Wrapper$Helper$$anon$3@1eb2bad4"
      ]
     },
     "execution_count": 10,
     "metadata": {},
     "output_type": "execute_result"
    }
   ],
   "source": [
    "val addressLens    = GenLens[Company](_.address)\n",
    "val streetLens     = GenLens[Address](_.street)\n",
    "val streetNameLens = GenLens[Street](_.name)"
   ]
  },
  {
   "cell_type": "markdown",
   "metadata": {
    "slideshow": {
     "slide_type": "subslide"
    }
   },
   "source": [
    "We now have the pieces to **compose** a lens to *zoom* &#128269; into the street name, all the way from the outside of an employee (so to speak &#129325;): "
   ]
  },
  {
   "cell_type": "code",
   "execution_count": 11,
   "metadata": {
    "slideshow": {
     "slide_type": "fragment"
    }
   },
   "outputs": [
    {
     "data": {
      "text/plain": [
       "\u001b[36memployeeStreetNameLens\u001b[39m: \u001b[32mmonocle\u001b[39m.\u001b[32mPLens\u001b[39m[\u001b[32mEmployee\u001b[39m, \u001b[32mEmployee\u001b[39m, \u001b[32mString\u001b[39m, \u001b[32mString\u001b[39m] = monocle.PLens$$anon$1@fd5814b"
      ]
     },
     "execution_count": 11,
     "metadata": {},
     "output_type": "execute_result"
    }
   ],
   "source": [
    "val employeeStreetNameLens = companyLens composeLens addressLens composeLens streetLens composeLens streetNameLens"
   ]
  },
  {
   "cell_type": "markdown",
   "metadata": {
    "slideshow": {
     "slide_type": "fragment"
    }
   },
   "source": [
    "or expressed in a more compact (but also more cryptic) syntax:"
   ]
  },
  {
   "cell_type": "code",
   "execution_count": 12,
   "metadata": {
    "slideshow": {
     "slide_type": "fragment"
    }
   },
   "outputs": [
    {
     "data": {
      "text/plain": [
       "\u001b[36memployeeStreetNameLens\u001b[39m: \u001b[32mmonocle\u001b[39m.\u001b[32mPLens\u001b[39m[\u001b[32mEmployee\u001b[39m, \u001b[32mEmployee\u001b[39m, \u001b[32mString\u001b[39m, \u001b[32mString\u001b[39m] = monocle.PLens$$anon$1@1a18e104"
      ]
     },
     "execution_count": 12,
     "metadata": {},
     "output_type": "execute_result"
    }
   ],
   "source": [
    "val employeeStreetNameLens = companyLens ^|-> addressLens ^|-> streetLens ^|-> streetNameLens"
   ]
  },
  {
   "cell_type": "markdown",
   "metadata": {
    "slideshow": {
     "slide_type": "fragment"
    }
   },
   "source": [
    "We can now apply this to our employee!"
   ]
  },
  {
   "cell_type": "code",
   "execution_count": 13,
   "metadata": {
    "slideshow": {
     "slide_type": "fragment"
    }
   },
   "outputs": [
    {
     "data": {
      "text/plain": [
       "\u001b[36mres12\u001b[39m: \u001b[32mEmployee\u001b[39m = Employee(Monica,Company(Bestmile,Address(Lausanne,Street(58,Rhodanie))),100)"
      ]
     },
     "execution_count": 13,
     "metadata": {},
     "output_type": "execute_result"
    }
   ],
   "source": [
    "employeeStreetNameLens.modify(_.capitalize)(employee)"
   ]
  },
  {
   "cell_type": "markdown",
   "metadata": {
    "slideshow": {
     "slide_type": "fragment"
    }
   },
   "source": [
    "# &#127870;&#129346;"
   ]
  },
  {
   "cell_type": "markdown",
   "metadata": {
    "slideshow": {
     "slide_type": "subslide"
    }
   },
   "source": [
    "Here's the same example with `scalaz`:"
   ]
  },
  {
   "cell_type": "code",
   "execution_count": 14,
   "metadata": {
    "slideshow": {
     "slide_type": "fragment"
    }
   },
   "outputs": [
    {
     "data": {
      "text/plain": [
       "\u001b[32mimport \u001b[39m\u001b[36mscalaz.Lens._\n",
       "\u001b[39m\n",
       "\u001b[32mimport \u001b[39m\u001b[36mscalaz.@>\u001b[39m"
      ]
     },
     "execution_count": 14,
     "metadata": {},
     "output_type": "execute_result"
    }
   ],
   "source": [
    "import scalaz.Lens._\n",
    "import scalaz.@>"
   ]
  },
  {
   "cell_type": "code",
   "execution_count": 15,
   "metadata": {
    "slideshow": {
     "slide_type": "fragment"
    }
   },
   "outputs": [
    {
     "data": {
      "text/plain": [
       "\u001b[36mcompanyL\u001b[39m: \u001b[32mEmployee\u001b[39m \u001b[32m@>\u001b[39m \u001b[32mCompany\u001b[39m = scalaz.LensFunctions$$anon$5@7e479cf2\n",
       "\u001b[36maddressL\u001b[39m: \u001b[32mCompany\u001b[39m \u001b[32m@>\u001b[39m \u001b[32mAddress\u001b[39m = scalaz.LensFunctions$$anon$5@351133fe\n",
       "\u001b[36mstreetL\u001b[39m: \u001b[32mAddress\u001b[39m \u001b[32m@>\u001b[39m \u001b[32mStreet\u001b[39m = scalaz.LensFunctions$$anon$5@4b7b15ab\n",
       "\u001b[36mstreetNameL\u001b[39m: \u001b[32mStreet\u001b[39m \u001b[32m@>\u001b[39m \u001b[32mString\u001b[39m = scalaz.LensFunctions$$anon$5@171e38e"
      ]
     },
     "execution_count": 15,
     "metadata": {},
     "output_type": "execute_result"
    }
   ],
   "source": [
    "val companyL: Employee @> Company = lensu((employee, company) => employee.copy(company = company), _.company)\n",
    "val addressL: Company @> Address = lensu((company, address) => company.copy(address = address), _.address)\n",
    "val streetL: Address @> Street = lensu((address, street) => address.copy(street = street), _.street)\n",
    "val streetNameL: Street @> String = lensu((street, name) => street.copy(name = name), _.name) "
   ]
  },
  {
   "cell_type": "markdown",
   "metadata": {
    "slideshow": {
     "slide_type": "fragment"
    }
   },
   "source": [
    "Composition is carried out with the 🐟 `>=>` operator (Kleisli composition with `Lens`):"
   ]
  },
  {
   "cell_type": "code",
   "execution_count": 16,
   "metadata": {
    "slideshow": {
     "slide_type": "fragment"
    }
   },
   "outputs": [
    {
     "data": {
      "text/plain": [
       "\u001b[36memployeeStreetNameL\u001b[39m: \u001b[32mscalaz\u001b[39m.\u001b[32mLensFamily\u001b[39m[\u001b[32mEmployee\u001b[39m, \u001b[32mEmployee\u001b[39m, \u001b[32mString\u001b[39m, \u001b[32mString\u001b[39m] = scalaz.LensFamilyFunctions$$anon$4@255b80bb"
      ]
     },
     "execution_count": 16,
     "metadata": {},
     "output_type": "execute_result"
    }
   ],
   "source": [
    "val employeeStreetNameL = companyL >=> addressL >=> streetL >=> streetNameL"
   ]
  },
  {
   "cell_type": "code",
   "execution_count": 17,
   "metadata": {
    "slideshow": {
     "slide_type": "fragment"
    }
   },
   "outputs": [
    {
     "data": {
      "text/plain": [
       "\u001b[36mres16\u001b[39m: \u001b[32mEmployee\u001b[39m = Employee(Monica,Company(Bestmile,Address(Lausanne,Street(58,Rhodanie))),100)"
      ]
     },
     "execution_count": 17,
     "metadata": {},
     "output_type": "execute_result"
    }
   ],
   "source": [
    "employeeStreetNameL.mod(_.capitalize, employee)"
   ]
  },
  {
   "cell_type": "markdown",
   "metadata": {
    "slideshow": {
     "slide_type": "subslide"
    }
   },
   "source": [
    "Back to `monocle`: we can even zoom-in further than the street name, directly into the `String` type onto the first char. "
   ]
  },
  {
   "cell_type": "markdown",
   "metadata": {
    "slideshow": {
     "slide_type": "fragment"
    }
   },
   "source": [
    "Since a `String` can be empty, the first char is optional. We can use `headOption`, a special *optic* for such cases:"
   ]
  },
  {
   "cell_type": "code",
   "execution_count": 18,
   "metadata": {
    "slideshow": {
     "slide_type": "fragment"
    }
   },
   "outputs": [
    {
     "data": {
      "text/plain": [
       "\u001b[32mimport \u001b[39m\u001b[36mmonocle.function.Cons.headOption\n",
       "\n",
       "\u001b[39m\n",
       "\u001b[36mdeepLens\u001b[39m: \u001b[32mmonocle\u001b[39m.\u001b[32mPOptional\u001b[39m[\u001b[32mEmployee\u001b[39m, \u001b[32mEmployee\u001b[39m, \u001b[32mChar\u001b[39m, \u001b[32mChar\u001b[39m] = monocle.POptional$$anon$1@11cd893d"
      ]
     },
     "execution_count": 18,
     "metadata": {},
     "output_type": "execute_result"
    }
   ],
   "source": [
    "import monocle.function.Cons.headOption\n",
    "\n",
    "val deepLens = companyLens ^|-> addressLens ^|-> streetLens ^|-> streetNameLens ^|-? headOption"
   ]
  },
  {
   "cell_type": "code",
   "execution_count": 19,
   "metadata": {
    "slideshow": {
     "slide_type": "fragment"
    }
   },
   "outputs": [
    {
     "data": {
      "text/plain": [
       "\u001b[36mres18\u001b[39m: \u001b[32mEmployee\u001b[39m = Employee(Monica,Company(Bestmile,Address(Lausanne,Street(58,Rhodanie))),100)"
      ]
     },
     "execution_count": 19,
     "metadata": {},
     "output_type": "execute_result"
    }
   ],
   "source": [
    "deepLens.modify(_.toUpper)(employee)"
   ]
  },
  {
   "cell_type": "markdown",
   "metadata": {
    "slideshow": {
     "slide_type": "subslide"
    }
   },
   "source": [
    "Note that using `monocle`'s various functions and macros under the `syntax` namespace, one can create lenses directly on the object:"
   ]
  },
  {
   "cell_type": "code",
   "execution_count": 20,
   "metadata": {
    "slideshow": {
     "slide_type": "fragment"
    }
   },
   "outputs": [
    {
     "data": {
      "text/plain": [
       "\u001b[32mimport \u001b[39m\u001b[36mmonocle.macros.syntax.lens._\n",
       "\n",
       "\u001b[39m\n",
       "\u001b[36mres19_1\u001b[39m: \u001b[32mEmployee\u001b[39m = Employee(Monica,Company(Bestmile,Address(Lausanne,Street(58,Rhodanie))),100)"
      ]
     },
     "execution_count": 20,
     "metadata": {},
     "output_type": "execute_result"
    }
   ],
   "source": [
    "import monocle.macros.syntax.lens._\n",
    "\n",
    "employee.lens(_.company.address.street.name).composeOptional(headOption).modify(_.toUpper)"
   ]
  },
  {
   "cell_type": "markdown",
   "metadata": {
    "slideshow": {
     "slide_type": "slide"
    }
   },
   "source": [
    "# Beyond lenses\n",
    "There are different kinds of optics in `monocle`. They almost all compose with each other. Here's a diagram of all the types, from the most general to the most specific."
   ]
  },
  {
   "cell_type": "markdown",
   "metadata": {
    "slideshow": {
     "slide_type": "fragment"
    }
   },
   "source": [
    "![monocle optics](monocle_optics.png \"Monocle optics\")"
   ]
  },
  {
   "cell_type": "markdown",
   "metadata": {
    "slideshow": {
     "slide_type": "slide"
    }
   },
   "source": [
    "## `Iso`: a \"mirror\" for immutable structures"
   ]
  },
  {
   "cell_type": "markdown",
   "metadata": {
    "slideshow": {
     "slide_type": "fragment"
    }
   },
   "source": [
    "`Iso` converts elements of type `S` into elements of type `A` when `S` has the same \"shape\" as `A`. Consider the following case class:"
   ]
  },
  {
   "cell_type": "code",
   "execution_count": 21,
   "metadata": {
    "slideshow": {
     "slide_type": "fragment"
    }
   },
   "outputs": [
    {
     "data": {
      "text/plain": [
       "defined \u001b[32mclass\u001b[39m \u001b[36mPerson\u001b[39m"
      ]
     },
     "execution_count": 21,
     "metadata": {},
     "output_type": "execute_result"
    }
   ],
   "source": [
    "case class Person(name: String, age: Int)"
   ]
  },
  {
   "cell_type": "markdown",
   "metadata": {
    "slideshow": {
     "slide_type": "fragment"
    }
   },
   "source": [
    "`Person` is equivalent to a tuple `(String, Int)` and a tuple `(String, Int)` is equivalent to `Person`. We can define \"bridges\" between types of the same shape that way:"
   ]
  },
  {
   "cell_type": "markdown",
   "metadata": {
    "slideshow": {
     "slide_type": "subslide"
    }
   },
   "source": [
    "```scala\n",
    "case class Person(name: String, age: Int)\n",
    "case class PersonParam(newName: String, newAge: Int)\n",
    "\n",
    "import monocle.macros.GenIso\n",
    "\n",
    "// iso to tuple for both types\n",
    "val personToTuple = GenIso.fields[Person]\n",
    "val personParamToTuple = GenIso.fields[PersonParam]\n",
    "\n",
    "// param -> tuple -> person\n",
    "val paramToPerson =  personParamToTuple composeIso personToTuple.reverse\n",
    "\n",
    "// applied on Monica\n",
    "paramToPerson.get(PersonParam(\"Monica\", 21))\n",
    "// res0: Person = Person(Monica,21)\n",
    "```"
   ]
  },
  {
   "cell_type": "markdown",
   "metadata": {
    "slideshow": {
     "slide_type": "slide"
    }
   },
   "source": [
    "## `Prism` &#128142; : pick a color from the &#127752;"
   ]
  },
  {
   "cell_type": "markdown",
   "metadata": {
    "slideshow": {
     "slide_type": "fragment"
    }
   },
   "source": [
    "A `Prism` is an optic used to select part of a `Sum` type (also known as `Coproduct`), typically a `sealed trait`."
   ]
  },
  {
   "cell_type": "markdown",
   "metadata": {
    "slideshow": {
     "slide_type": "fragment"
    }
   },
   "source": [
    "It's a type with two parameters `Prism[S, A]`: `S` is the `Sum`, `A` a part of the `Sum`."
   ]
  },
  {
   "cell_type": "markdown",
   "metadata": {
    "slideshow": {
     "slide_type": "subslide"
    }
   },
   "source": [
    "Here's an example `Command` sealed trait:"
   ]
  },
  {
   "cell_type": "code",
   "execution_count": 4,
   "metadata": {
    "slideshow": {
     "slide_type": "fragment"
    }
   },
   "outputs": [
    {
     "data": {
      "text/plain": [
       "defined \u001b[32mclass\u001b[39m \u001b[36mCoordinates\u001b[39m\n",
       "defined \u001b[32mtrait\u001b[39m \u001b[36mCommand\u001b[39m\n",
       "defined \u001b[32mclass\u001b[39m \u001b[36mDriveToPickup\u001b[39m\n",
       "defined \u001b[32mclass\u001b[39m \u001b[36mDriveToStation\u001b[39m\n",
       "defined \u001b[32mclass\u001b[39m \u001b[36mDriveToDropoff\u001b[39m\n",
       "defined \u001b[32mobject\u001b[39m \u001b[36mEmergencyStop\u001b[39m\n",
       "defined \u001b[32mobject\u001b[39m \u001b[36mEmergencyResume\u001b[39m"
      ]
     },
     "execution_count": 4,
     "metadata": {},
     "output_type": "execute_result"
    }
   ],
   "source": [
    "case class Coordinates(x: Double, y: Double)\n",
    "\n",
    "sealed trait Command\n",
    "case class DriveToPickup(target: Coordinates, passengers: Int) extends Command\n",
    "case class DriveToStation(stationCoordinates: Coordinates) extends Command\n",
    "case class DriveToDropoff(target: Coordinates, passengers: Int) extends Command\n",
    "case object EmergencyStop extends Command\n",
    "case object EmergencyResume extends Command"
   ]
  },
  {
   "cell_type": "markdown",
   "metadata": {
    "slideshow": {
     "slide_type": "fragment"
    }
   },
   "source": [
    "Now let's say we want to define a generic logging function which logs coordinates involved in `Command` instances:"
   ]
  },
  {
   "cell_type": "code",
   "execution_count": 23,
   "metadata": {
    "slideshow": {
     "slide_type": "fragment"
    }
   },
   "outputs": [
    {
     "data": {
      "text/plain": [
       "defined \u001b[32mfunction\u001b[39m \u001b[36mlogAnyCoordinates\u001b[39m"
      ]
     },
     "execution_count": 23,
     "metadata": {},
     "output_type": "execute_result"
    }
   ],
   "source": [
    "def logAnyCoordinates(command: Command) = ???"
   ]
  },
  {
   "cell_type": "markdown",
   "metadata": {
    "slideshow": {
     "slide_type": "subslide"
    }
   },
   "source": [
    "That would be the usual implementation:"
   ]
  },
  {
   "cell_type": "code",
   "execution_count": 24,
   "metadata": {
    "slideshow": {
     "slide_type": "fragment"
    }
   },
   "outputs": [
    {
     "data": {
      "text/plain": [
       "defined \u001b[32mfunction\u001b[39m \u001b[36mlogAnyCoordinatesUsual\u001b[39m"
      ]
     },
     "execution_count": 24,
     "metadata": {},
     "output_type": "execute_result"
    }
   ],
   "source": [
    "def logAnyCoordinatesUsual(command: Command) = {\n",
    "  val coordinates = \n",
    "  command match {\n",
    "    case DriveToPickup(c, _)  => Some(c)\n",
    "    case DriveToDropoff(c, _) => Some(c)\n",
    "    case DriveToStation(c)    => Some(c)\n",
    "    case _ => None\n",
    "  }\n",
    "  println(coordinates.map(c =>  s\"x=${c.x}, y=${c.y}\").getOrElse(\"\"))\n",
    "}"
   ]
  },
  {
   "cell_type": "code",
   "execution_count": 25,
   "metadata": {
    "slideshow": {
     "slide_type": "fragment"
    }
   },
   "outputs": [
    {
     "name": "stdout",
     "output_type": "stream",
     "text": [
      "x=1.0, y=2.0\n",
      "\n",
      "x=5.0, y=2.0\n",
      "\n",
      "x=42.0, y=42.0\n"
     ]
    }
   ],
   "source": [
    "logAnyCoordinatesUsual(DriveToDropoff(Coordinates(1.0, 2.0), 2))\n",
    "logAnyCoordinatesUsual(EmergencyStop)\n",
    "logAnyCoordinatesUsual(DriveToStation(Coordinates(5.0, 2.0)))\n",
    "logAnyCoordinatesUsual(EmergencyResume)\n",
    "logAnyCoordinatesUsual(DriveToDropoff(Coordinates(42, 42), 42))"
   ]
  },
  {
   "cell_type": "markdown",
   "metadata": {
    "slideshow": {
     "slide_type": "subslide"
    }
   },
   "source": [
    "That's ok, but here are some drawbacks:"
   ]
  },
  {
   "cell_type": "markdown",
   "metadata": {
    "slideshow": {
     "slide_type": "fragment"
    }
   },
   "source": [
    "- This is evolution-fragile: if the `Sum` changes shape, code needs to be touched."
   ]
  },
  {
   "cell_type": "markdown",
   "metadata": {
    "slideshow": {
     "slide_type": "fragment"
    }
   },
   "source": [
    "- This sort of selection code is likely to end up duplicated in various places depending on the needs of each method. "
   ]
  },
  {
   "cell_type": "markdown",
   "metadata": {
    "slideshow": {
     "slide_type": "fragment"
    }
   },
   "source": [
    "- It only describes one thing: extracting the value from the `Sum` type "
   ]
  },
  {
   "cell_type": "markdown",
   "metadata": {
    "slideshow": {
     "slide_type": "fragment"
    }
   },
   "source": [
    "But most importantly: it's super boring code! &#128564; &#128541;\n",
    "Let's look at another, more generic way to do this using a combination of `Prism` and `Lens`."
   ]
  },
  {
   "cell_type": "markdown",
   "metadata": {
    "slideshow": {
     "slide_type": "subslide"
    }
   },
   "source": [
    "First, we need some imports and a helper method (which unfortunately isn't part of monocle)"
   ]
  },
  {
   "cell_type": "code",
   "execution_count": 3,
   "metadata": {
    "slideshow": {
     "slide_type": "fragment"
    }
   },
   "outputs": [
    {
     "data": {
      "text/plain": [
       "\u001b[32mimport \u001b[39m\u001b[36mmonocle._\n",
       "\u001b[39m\n",
       "\u001b[32mimport \u001b[39m\u001b[36mmonocle.Optional\n",
       "\u001b[39m\n",
       "\u001b[32mimport \u001b[39m\u001b[36mmonocle.macros.{GenLens, GenPrism}\n",
       "\n",
       "\u001b[39m\n",
       "defined \u001b[32mclass\u001b[39m \u001b[36mRichOptional\u001b[39m"
      ]
     },
     "execution_count": 3,
     "metadata": {},
     "output_type": "execute_result"
    }
   ],
   "source": [
    "import monocle._\n",
    "import monocle.Optional\n",
    "import monocle.macros.{GenLens, GenPrism}\n",
    "\n",
    "implicit class RichOptional[A, B](self: Optional[A, B]) {\n",
    "  def merge(optional: Optional[A, B]): Optional[A, B] =\n",
    "    Optional[A, B](a => self.getOption(a).orElse(optional.getOption(a)))(b => a => self.setOption(b)(a).getOrElse(optional.set(b)(a)))\n",
    "}"
   ]
  },
  {
   "cell_type": "markdown",
   "metadata": {
    "slideshow": {
     "slide_type": "fragment"
    }
   },
   "source": [
    "Using a combination of `Prism` and `Lens`, we can define an `Optional` which acts as sort of pointer on all coordinates in the `Command` sealed trait:"
   ]
  },
  {
   "cell_type": "code",
   "execution_count": 5,
   "metadata": {
    "slideshow": {
     "slide_type": "fragment"
    }
   },
   "outputs": [
    {
     "data": {
      "text/plain": [
       "\u001b[36mcommandCoordinatesOptional\u001b[39m: \u001b[32mOptional\u001b[39m[\u001b[32mCommand\u001b[39m, \u001b[32mCoordinates\u001b[39m] = monocle.Optional$$anon$6@7276fe7a"
      ]
     },
     "execution_count": 5,
     "metadata": {},
     "output_type": "execute_result"
    }
   ],
   "source": [
    "val commandCoordinatesOptional = \n",
    "GenPrism[Command, DriveToPickup] ^|-> GenLens[DriveToPickup](_.target) merge\n",
    "GenPrism[Command, DriveToStation] ^|-> GenLens[DriveToStation](_.stationCoordinates) merge\n",
    "GenPrism[Command, DriveToDropoff] ^|-> GenLens[DriveToDropoff](_.target)"
   ]
  },
  {
   "cell_type": "markdown",
   "metadata": {
    "slideshow": {
     "slide_type": "fragment"
    }
   },
   "source": [
    "The combination of `Prism` then \"zoom-in\" using `^|->` and `Lens` leads to an `Optional`, an optic that represents a value which can be there or not. Then we use horizontal composition between `Optional` instances with `merge`.  "
   ]
  },
  {
   "cell_type": "markdown",
   "metadata": {
    "slideshow": {
     "slide_type": "subslide"
    }
   },
   "source": [
    "We can now rewrite our logging function to take advantage of this:"
   ]
  },
  {
   "cell_type": "code",
   "execution_count": 6,
   "metadata": {
    "slideshow": {
     "slide_type": "fragment"
    }
   },
   "outputs": [
    {
     "data": {
      "text/plain": [
       "defined \u001b[32mfunction\u001b[39m \u001b[36mlogAnyCoordinatesCool\u001b[39m"
      ]
     },
     "execution_count": 6,
     "metadata": {},
     "output_type": "execute_result"
    }
   ],
   "source": [
    "def logAnyCoordinatesCool(command: Command) = {\n",
    "  println(commandCoordinatesOptional.getOption(command).map(c => s\"x=${c.x}, y=${c.y}\").getOrElse(\"\"))\n",
    "}"
   ]
  },
  {
   "cell_type": "code",
   "execution_count": 7,
   "metadata": {
    "slideshow": {
     "slide_type": "fragment"
    }
   },
   "outputs": [
    {
     "name": "stdout",
     "output_type": "stream",
     "text": [
      "x=1.0, y=2.0\n",
      "\n",
      "x=5.0, y=2.0\n",
      "\n",
      "x=42.0, y=42.0\n"
     ]
    }
   ],
   "source": [
    "logAnyCoordinatesCool(DriveToDropoff(Coordinates(1.0, 2.0), 2))\n",
    "logAnyCoordinatesCool(EmergencyStop)\n",
    "logAnyCoordinatesCool(DriveToStation(Coordinates(5.0, 2.0)))\n",
    "logAnyCoordinatesCool(EmergencyResume)\n",
    "logAnyCoordinatesCool(DriveToDropoff(Coordinates(42, 42), 42))"
   ]
  },
  {
   "cell_type": "markdown",
   "metadata": {
    "slideshow": {
     "slide_type": "subslide"
    }
   },
   "source": [
    "Even more &#127378; is the ability to update the coordinates for all! We can now define:"
   ]
  },
  {
   "cell_type": "code",
   "execution_count": 8,
   "metadata": {
    "slideshow": {
     "slide_type": "fragment"
    }
   },
   "outputs": [
    {
     "data": {
      "text/plain": [
       "defined \u001b[32mfunction\u001b[39m \u001b[36moffsetByOne\u001b[39m\n",
       "defined \u001b[32mfunction\u001b[39m \u001b[36moffsetCoordinatesByOne\u001b[39m"
      ]
     },
     "execution_count": 8,
     "metadata": {},
     "output_type": "execute_result"
    }
   ],
   "source": [
    "def offsetByOne(coordinates: Coordinates) = coordinates.copy(x = coordinates.x + 1, y = coordinates.y + 1)\n",
    "\n",
    "def offsetCoordinatesByOne(command: Command) = commandCoordinatesOptional.modify(offsetByOne)(command)"
   ]
  },
  {
   "cell_type": "code",
   "execution_count": 9,
   "metadata": {
    "slideshow": {
     "slide_type": "fragment"
    }
   },
   "outputs": [
    {
     "data": {
      "text/plain": [
       "\u001b[36mres8_0\u001b[39m: \u001b[32mCommand\u001b[39m = DriveToDropoff(Coordinates(2.0,3.0),2)\n",
       "\u001b[36mres8_1\u001b[39m: \u001b[32mCommand\u001b[39m = EmergencyStop\n",
       "\u001b[36mres8_2\u001b[39m: \u001b[32mCommand\u001b[39m = DriveToStation(Coordinates(6.0,3.0))\n",
       "\u001b[36mres8_3\u001b[39m: \u001b[32mCommand\u001b[39m = EmergencyResume\n",
       "\u001b[36mres8_4\u001b[39m: \u001b[32mCommand\u001b[39m = DriveToDropoff(Coordinates(43.0,43.0),42)"
      ]
     },
     "execution_count": 9,
     "metadata": {},
     "output_type": "execute_result"
    }
   ],
   "source": [
    "offsetCoordinatesByOne(DriveToDropoff(Coordinates(1.0, 2.0), 2))\n",
    "offsetCoordinatesByOne(EmergencyStop)\n",
    "offsetCoordinatesByOne(DriveToStation(Coordinates(5.0, 2.0)))\n",
    "offsetCoordinatesByOne(EmergencyResume)\n",
    "offsetCoordinatesByOne(DriveToDropoff(Coordinates(42, 42), 42))"
   ]
  },
  {
   "cell_type": "markdown",
   "metadata": {
    "slideshow": {
     "slide_type": "slide"
    }
   },
   "source": [
    "## `Traversal` &#10175;: many eyes see it all 🕷️"
   ]
  },
  {
   "cell_type": "markdown",
   "metadata": {
    "slideshow": {
     "slide_type": "fragment"
    }
   },
   "source": [
    "`Traversal` can focus into all elements inside of a container (e.g. `List`, `Vector`, `Option`). In more generic terms, it allows to focus from a type `S` into *0 to n* values of type `A`."
   ]
  },
  {
   "cell_type": "markdown",
   "metadata": {
    "slideshow": {
     "slide_type": "fragment"
    }
   },
   "source": [
    "For instance, let's say each vehicle keeps a journal 📒 of commands:"
   ]
  },
  {
   "cell_type": "code",
   "execution_count": 10,
   "metadata": {
    "slideshow": {
     "slide_type": "fragment"
    }
   },
   "outputs": [
    {
     "data": {
      "text/plain": [
       "defined \u001b[32mclass\u001b[39m \u001b[36mVehicle\u001b[39m\n",
       "defined \u001b[32mclass\u001b[39m \u001b[36mVehicleCommandsJournal\u001b[39m"
      ]
     },
     "execution_count": 10,
     "metadata": {},
     "output_type": "execute_result"
    }
   ],
   "source": [
    "case class Vehicle(name: String, id: Int)\n",
    "case class VehicleCommandsJournal(vehicle: Vehicle, commands: List[Command])"
   ]
  },
  {
   "cell_type": "markdown",
   "metadata": {
    "slideshow": {
     "slide_type": "fragment"
    }
   },
   "source": [
    "Here's a journal with some commands:"
   ]
  },
  {
   "cell_type": "code",
   "execution_count": 11,
   "metadata": {
    "slideshow": {
     "slide_type": "fragment"
    }
   },
   "outputs": [
    {
     "data": {
      "text/plain": [
       "\u001b[36mjournal\u001b[39m: \u001b[32mVehicleCommandsJournal\u001b[39m = VehicleCommandsJournal(Vehicle(Navia1,1),List(DriveToPickup(Coordinates(1.0,2.0),2), DriveToDropoff(Coordinates(5.0,3.0),2), DriveToStation(Coordinates(5.0,2.0)), EmergencyStop))"
      ]
     },
     "execution_count": 11,
     "metadata": {},
     "output_type": "execute_result"
    }
   ],
   "source": [
    "val journal = VehicleCommandsJournal(\n",
    "  Vehicle(\"Navia1\", 1),\n",
    "  List(\n",
    "    DriveToPickup(Coordinates(1.0, 2.0), 2),\n",
    "    DriveToDropoff(Coordinates(5.0, 3.0), 2),\n",
    "    DriveToStation(Coordinates(5.0, 2.0)),\n",
    "    EmergencyStop\n",
    "  ))"
   ]
  },
  {
   "cell_type": "markdown",
   "metadata": {
    "slideshow": {
     "slide_type": "subslide"
    }
   },
   "source": [
    "Let's see if we can carry out our coordinates offset stunt. First, we need some more imports:"
   ]
  },
  {
   "cell_type": "code",
   "execution_count": 12,
   "metadata": {
    "slideshow": {
     "slide_type": "fragment"
    }
   },
   "outputs": [
    {
     "data": {
      "text/plain": [
       "\u001b[32mimport \u001b[39m\u001b[36mmonocle.Traversal\n",
       "\u001b[39m\n",
       "\u001b[32mimport \u001b[39m\u001b[36mscalaz.std.list.listInstance // we need scalaz Traverse type class instance for List in scope\n",
       "\n",
       "// code below is only needed to make it work in Jupyter:\n",
       "\u001b[39m\n",
       "\u001b[32mimport \u001b[39m\u001b[36mmonocle._\n",
       "\u001b[39m\n",
       "\u001b[32mimport \u001b[39m\u001b[36mscalaz._  \n",
       "\u001b[39m\n",
       "defined \u001b[32mfunction\u001b[39m \u001b[36mfromTraverse\u001b[39m"
      ]
     },
     "execution_count": 12,
     "metadata": {},
     "output_type": "execute_result"
    }
   ],
   "source": [
    "import monocle.Traversal\n",
    "import scalaz.std.list.listInstance // we need scalaz Traverse type class instance for List in scope\n",
    "\n",
    "// code below is only needed to make it work in Jupyter:\n",
    "import monocle._\n",
    "import scalaz._  \n",
    "def fromTraverse[T[_]: Traverse, A, B]: PTraversal[T[A], T[B], A, B] =\n",
    "    new PTraversal[T[A], T[B], A, B] {\n",
    "      def modifyF[F[_]: Applicative](f: A => F[B])(s: T[A]): F[T[B]] =\n",
    "        Traverse[T].traverse(s)(f)\n",
    "    }"
   ]
  },
  {
   "cell_type": "markdown",
   "metadata": {
    "slideshow": {
     "slide_type": "subslide"
    }
   },
   "source": [
    "We can now define a traversal for commands in the journal:"
   ]
  },
  {
   "cell_type": "code",
   "execution_count": 13,
   "metadata": {
    "slideshow": {
     "slide_type": "fragment"
    }
   },
   "outputs": [
    {
     "data": {
      "text/plain": [
       "\u001b[36mcommandsLens\u001b[39m: \u001b[32mmonocle\u001b[39m.\u001b[32mpackage\u001b[39m.\u001b[32mLens\u001b[39m[\u001b[32mVehicleCommandsJournal\u001b[39m, \u001b[32mList\u001b[39m[\u001b[32mCommand\u001b[39m]] = $sess.cmd12Wrapper$Helper$$anon$1@446a2d03\n",
       "\u001b[36mcommandsCoordinatesTraversal\u001b[39m: \u001b[32mPTraversal\u001b[39m[\u001b[32mVehicleCommandsJournal\u001b[39m, \u001b[32mVehicleCommandsJournal\u001b[39m, \u001b[32mCommand\u001b[39m, \u001b[32mCommand\u001b[39m] = monocle.PTraversal$$anon$2@7d066293"
      ]
     },
     "execution_count": 13,
     "metadata": {},
     "output_type": "execute_result"
    }
   ],
   "source": [
    "val commandsLens = GenLens[VehicleCommandsJournal](_.commands) // first the lens\n",
    "val commandsCoordinatesTraversal = commandsLens ^|->> fromTraverse[List, Command, Command] // compose with the commands traversal"
   ]
  },
  {
   "cell_type": "markdown",
   "metadata": {
    "slideshow": {
     "slide_type": "fragment"
    }
   },
   "source": [
    "We can use this `Traversal` instance to define an offset function which works on `VehicleCommandsJournal`:"
   ]
  },
  {
   "cell_type": "code",
   "execution_count": 14,
   "metadata": {
    "slideshow": {
     "slide_type": "fragment"
    }
   },
   "outputs": [
    {
     "data": {
      "text/plain": [
       "defined \u001b[32mfunction\u001b[39m \u001b[36moffsetAllCoordinatesByOne\u001b[39m"
      ]
     },
     "execution_count": 14,
     "metadata": {},
     "output_type": "execute_result"
    }
   ],
   "source": [
    "def offsetAllCoordinatesByOne(journal: VehicleCommandsJournal) = \n",
    "  commandsCoordinatesTraversal.modify(offsetCoordinatesByOne)(journal)"
   ]
  },
  {
   "cell_type": "markdown",
   "metadata": {
    "slideshow": {
     "slide_type": "fragment"
    }
   },
   "source": [
    "And now let's apply it to our small `journal`:"
   ]
  },
  {
   "cell_type": "code",
   "execution_count": 15,
   "metadata": {
    "slideshow": {
     "slide_type": "fragment"
    }
   },
   "outputs": [
    {
     "data": {
      "text/plain": [
       "\u001b[36mres14\u001b[39m: \u001b[32mVehicleCommandsJournal\u001b[39m = VehicleCommandsJournal(Vehicle(Navia1,1),List(DriveToPickup(Coordinates(2.0,3.0),2), DriveToDropoff(Coordinates(6.0,4.0),2), DriveToStation(Coordinates(6.0,3.0)), EmergencyStop))"
      ]
     },
     "execution_count": 15,
     "metadata": {},
     "output_type": "execute_result"
    }
   ],
   "source": [
    "offsetAllCoordinatesByOne(journal)"
   ]
  },
  {
   "cell_type": "markdown",
   "metadata": {
    "slideshow": {
     "slide_type": "fragment"
    }
   },
   "source": [
    "# 🍻🍻🍻"
   ]
  },
  {
   "cell_type": "markdown",
   "metadata": {
    "slideshow": {
     "slide_type": "slide"
    }
   },
   "source": [
    "# Typeclasses\n",
    "We've seen how to zoom-in on elements based on **structure** using `Lens` and other optics. We can also focus on elements based on **data** using `monocle`'s various typeclasses."
   ]
  },
  {
   "cell_type": "markdown",
   "metadata": {
    "slideshow": {
     "slide_type": "fragment"
    }
   },
   "source": [
    "To illustrate this, let's define a structure which maps employees 👥👥 per company 🏭:"
   ]
  },
  {
   "cell_type": "code",
   "execution_count": 30,
   "metadata": {
    "slideshow": {
     "slide_type": "fragment"
    }
   },
   "outputs": [
    {
     "data": {
      "text/plain": [
       "defined \u001b[32mclass\u001b[39m \u001b[36mEmployeesPerCompany\u001b[39m"
      ]
     },
     "execution_count": 30,
     "metadata": {},
     "output_type": "execute_result"
    }
   ],
   "source": [
    "case class EmployeesPerCompany(employees: Map[Company, List[Employee]])"
   ]
  },
  {
   "cell_type": "markdown",
   "metadata": {
    "slideshow": {
     "slide_type": "fragment"
    }
   },
   "source": [
    "We have two companies around here:"
   ]
  },
  {
   "cell_type": "code",
   "execution_count": 31,
   "metadata": {
    "slideshow": {
     "slide_type": "fragment"
    }
   },
   "outputs": [
    {
     "data": {
      "text/plain": [
       "\u001b[36mbm\u001b[39m: \u001b[32mCompany\u001b[39m = Company(Bestmile,Address(Lausanne,Street(58,rhodanie)))\n",
       "\u001b[36mpmi\u001b[39m: \u001b[32mCompany\u001b[39m = Company(Philip Morris International,Address(Lausanne,Street(50,Rhodanie)))"
      ]
     },
     "execution_count": 31,
     "metadata": {},
     "output_type": "execute_result"
    }
   ],
   "source": [
    "val bm = Company(\"Bestmile\", Address(\"Lausanne\", Street(58, \"rhodanie\")))\n",
    "val pmi = Company(\"Philip Morris International\", Address(\"Lausanne\", Street(50, \"Rhodanie\")))"
   ]
  },
  {
   "cell_type": "markdown",
   "metadata": {
    "slideshow": {
     "slide_type": "fragment"
    }
   },
   "source": [
    "And various employees:"
   ]
  },
  {
   "cell_type": "code",
   "execution_count": 32,
   "metadata": {
    "slideshow": {
     "slide_type": "subslide"
    }
   },
   "outputs": [
    {
     "data": {
      "text/plain": [
       "\u001b[36memployeesPerCompany\u001b[39m: \u001b[32mEmployeesPerCompany\u001b[39m = \u001b[33mEmployeesPerCompany\u001b[39m(\n",
       "  \u001b[33mMap\u001b[39m(\n",
       "    Company(Philip Morris International,Address(Lausanne,Street(50,Rhodanie))) -> \u001b[33mList\u001b[39m(\n",
       "      Employee(Picsou,Company(Philip Morris International,Address(Lausanne,Street(50,Rhodanie))),1000),\n",
       "      Employee(Donald,Company(Philip Morris International,Address(Lausanne,Street(50,Rhodanie))),2000)\n",
       "    ),\n",
       "    Company(Bestmile,Address(Lausanne,Street(58,rhodanie))) -> \u001b[33mList\u001b[39m(\n",
       "      Employee(Monica,Company(Bestmile,Address(Lausanne,Street(58,rhodanie))),100),\n",
       "\u001b[33m...\u001b[39m"
      ]
     },
     "execution_count": 32,
     "metadata": {},
     "output_type": "execute_result"
    }
   ],
   "source": [
    "val employeesPerCompany = EmployeesPerCompany(List(\n",
    "    Employee(\"Monica\", bm, salary = 100),\n",
    "    Employee(\"Bob\", bm, salary = 90),\n",
    "    Employee(\"Alice\", bm, salary = 110),\n",
    "    Employee(\"Alfred\", bm, salary = 105),\n",
    "    Employee(\"Picsou\", pmi, salary = 1000),\n",
    "    Employee(\"Donald\", pmi, salary = 2000))\n",
    " .groupBy(_.company))"
   ]
  },
  {
   "cell_type": "markdown",
   "metadata": {
    "slideshow": {
     "slide_type": "fragment"
    }
   },
   "source": [
    "Notice the injustice  🤑💸? In the world of optics, it's easy to correct this. We first need a lens on the `salary` field of `Employee`:"
   ]
  },
  {
   "cell_type": "code",
   "execution_count": 33,
   "metadata": {
    "slideshow": {
     "slide_type": "fragment"
    }
   },
   "outputs": [
    {
     "data": {
      "text/plain": [
       "\u001b[36msalaryLens\u001b[39m: \u001b[32mmonocle\u001b[39m.\u001b[32mpackage\u001b[39m.\u001b[32mLens\u001b[39m[\u001b[32mEmployee\u001b[39m, \u001b[32mInt\u001b[39m] = $sess.cmd32Wrapper$Helper$$anon$1@710493f1"
      ]
     },
     "execution_count": 33,
     "metadata": {},
     "output_type": "execute_result"
    }
   ],
   "source": [
    "val salaryLens = GenLens[Employee](_.salary)"
   ]
  },
  {
   "cell_type": "markdown",
   "metadata": {
    "slideshow": {
     "slide_type": "subslide"
    }
   },
   "source": [
    "Then some imports:"
   ]
  },
  {
   "cell_type": "code",
   "execution_count": 34,
   "metadata": {
    "slideshow": {
     "slide_type": "fragment"
    }
   },
   "outputs": [
    {
     "data": {
      "text/plain": [
       "\u001b[32mimport \u001b[39m\u001b[36mmonocle.function.At.at      // to get At typeclass\n",
       "\u001b[39m\n",
       "\u001b[32mimport \u001b[39m\u001b[36mmonocle.function.Each.each  // to get Each typeclass \n",
       "\u001b[39m\n",
       "\u001b[32mimport \u001b[39m\u001b[36mmonocle.std.map._           // to get Map typeclass instance for At\n",
       "\u001b[39m\n",
       "\u001b[32mimport \u001b[39m\u001b[36mmonocle.std.list._          // to get List typeclass instance for Each \u001b[39m"
      ]
     },
     "execution_count": 34,
     "metadata": {},
     "output_type": "execute_result"
    }
   ],
   "source": [
    "import monocle.function.At.at      // to get At typeclass\n",
    "import monocle.function.Each.each  // to get Each typeclass \n",
    "import monocle.std.map._           // to get Map typeclass instance for At\n",
    "import monocle.std.list._          // to get List typeclass instance for Each "
   ]
  },
  {
   "cell_type": "markdown",
   "metadata": {
    "slideshow": {
     "slide_type": "subslide"
    }
   },
   "source": [
    "We can now do:"
   ]
  },
  {
   "cell_type": "code",
   "execution_count": 35,
   "metadata": {
    "slideshow": {
     "slide_type": "fragment"
    }
   },
   "outputs": [
    {
     "data": {
      "text/plain": [
       "\u001b[36mcorrected\u001b[39m: \u001b[32mEmployeesPerCompany\u001b[39m = \u001b[33mEmployeesPerCompany\u001b[39m(\n",
       "  \u001b[33mMap\u001b[39m(\n",
       "    Company(Philip Morris International,Address(Lausanne,Street(50,Rhodanie))) -> \u001b[33mList\u001b[39m(\n",
       "      Employee(Picsou,Company(Philip Morris International,Address(Lausanne,Street(50,Rhodanie))),100),\n",
       "      Employee(Donald,Company(Philip Morris International,Address(Lausanne,Street(50,Rhodanie))),200)\n",
       "    ),\n",
       "    Company(Bestmile,Address(Lausanne,Street(58,rhodanie))) -> \u001b[33mList\u001b[39m(\n",
       "      Employee(Monica,Company(Bestmile,Address(Lausanne,Street(58,rhodanie))),100),\n",
       "\u001b[33m...\u001b[39m"
      ]
     },
     "execution_count": 35,
     "metadata": {},
     "output_type": "execute_result"
    }
   ],
   "source": [
    "val corrected = (employeesPerCompany.lens(_.employees) \n",
    "     ^|-> at(pmi) \n",
    "     ^|->> each ^|->> each \n",
    "     ^|-> salaryLens\n",
    ").modify(_ / 10)"
   ]
  },
  {
   "cell_type": "markdown",
   "metadata": {
    "slideshow": {
     "slide_type": "fragment"
    }
   },
   "source": [
    "Of course, let's not forget 😏:"
   ]
  },
  {
   "cell_type": "code",
   "execution_count": 36,
   "metadata": {
    "slideshow": {
     "slide_type": "fragment"
    }
   },
   "outputs": [
    {
     "data": {
      "text/plain": [
       "\u001b[36mres35\u001b[39m: \u001b[32mEmployeesPerCompany\u001b[39m = \u001b[33mEmployeesPerCompany\u001b[39m(\n",
       "  \u001b[33mMap\u001b[39m(\n",
       "    Company(Philip Morris International,Address(Lausanne,Street(50,Rhodanie))) -> \u001b[33mList\u001b[39m(\n",
       "      Employee(Picsou,Company(Philip Morris International,Address(Lausanne,Street(50,Rhodanie))),100),\n",
       "      Employee(Donald,Company(Philip Morris International,Address(Lausanne,Street(50,Rhodanie))),200)\n",
       "    ),\n",
       "    Company(Bestmile,Address(Lausanne,Street(58,rhodanie))) -> \u001b[33mList\u001b[39m(\n",
       "      Employee(Monica,Company(Bestmile,Address(Lausanne,Street(58,rhodanie))),1000),\n",
       "\u001b[33m...\u001b[39m"
      ]
     },
     "execution_count": 36,
     "metadata": {},
     "output_type": "execute_result"
    }
   ],
   "source": [
    "(corrected.lens(_.employees) \n",
    "     ^|-> at(bm) \n",
    "     ^|->> each ^|->> each \n",
    "     ^|-> salaryLens\n",
    ").modify(_ * 10)"
   ]
  },
  {
   "cell_type": "markdown",
   "metadata": {
    "slideshow": {
     "slide_type": "slide"
    }
   },
   "source": [
    "# For more information"
   ]
  },
  {
   "cell_type": "markdown",
   "metadata": {
    "slideshow": {
     "slide_type": "fragment"
    }
   },
   "source": [
    "#### Documentation\n",
    " - https://julien-truffaut.github.io/Monocle/\n",
    " - http://eed3si9n.com/learning-scalaz/Lens.html"
   ]
  },
  {
   "cell_type": "markdown",
   "metadata": {
    "slideshow": {
     "slide_type": "fragment"
    }
   },
   "source": [
    "#### Examples:\n",
    " - https://github.com/julien-truffaut/Monocle/tree/master/example/src/test/scala/monocle\n",
    " - https://gist.github.com/dragisak/fa8d6c297f20c1348e11 (scalaz)"
   ]
  },
  {
   "cell_type": "markdown",
   "metadata": {
    "slideshow": {
     "slide_type": "fragment"
    }
   },
   "source": [
    "#### Exercises: \n",
    " - https://www.scala-exercises.org/monocle/iso"
   ]
  },
  {
   "cell_type": "markdown",
   "metadata": {
    "slideshow": {
     "slide_type": "subslide"
    }
   },
   "source": [
    "## For javascripters:"
   ]
  },
  {
   "cell_type": "markdown",
   "metadata": {
    "slideshow": {
     "slide_type": "fragment"
    }
   },
   "source": [
    "#### Ramda\n",
    " - http://randycoulman.com/blog/2016/07/12/thinking-in-ramda-lenses/\n",
    " - https://github.com/ramda/ramda-lens"
   ]
  },
  {
   "cell_type": "markdown",
   "metadata": {
    "slideshow": {
     "slide_type": "fragment"
    }
   },
   "source": [
    "#### Port of monocle for TS \n",
    " - https://github.com/gcanti/monocle-ts"
   ]
  }
 ],
 "metadata": {
  "celltoolbar": "Slideshow",
  "kernelspec": {
   "display_name": "Scala",
   "language": "scala",
   "name": "scala"
  },
  "language_info": {
   "codemirror_mode": "text/x-scala",
   "file_extension": ".scala",
   "mimetype": "text/x-scala",
   "name": "scala211",
   "nbconvert_exporter": "script",
   "pygments_lexer": "scala",
   "version": "2.11.8"
  }
 },
 "nbformat": 4,
 "nbformat_minor": 2
}
